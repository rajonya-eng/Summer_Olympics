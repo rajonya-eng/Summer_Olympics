{
  "nbformat": 4,
  "nbformat_minor": 0,
  "metadata": {
    "kernelspec": {
      "display_name": "Python 2",
      "language": "python",
      "name": "python2"
    },
    "language_info": {
      "codemirror_mode": {
        "name": "ipython",
        "version": 2
      },
      "file_extension": ".py",
      "mimetype": "text/x-python",
      "name": "python",
      "nbconvert_exporter": "python",
      "pygments_lexer": "ipython2",
      "version": "2.7.16"
    },
    "colab": {
      "name": "Summer.ipynb",
      "provenance": [],
      "collapsed_sections": []
    }
  },
  "cells": [
    {
      "cell_type": "markdown",
      "metadata": {
        "id": "XciA2EVPKMLS"
      },
      "source": [
        "# Summer Olympics Data Analysis Assignment"
      ]
    },
    {
      "cell_type": "code",
      "metadata": {
        "id": "zcgfixjxKuHv"
      },
      "source": [
        "import pandas as pd\n",
        "import matplotlib.pyplot as plt\n",
        "import numpy as np"
      ],
      "execution_count": 4,
      "outputs": []
    },
    {
      "cell_type": "code",
      "metadata": {
        "id": "b8l06yJFLqTu"
      },
      "source": [
        "df = pd.read_csv('summer.csv')"
      ],
      "execution_count": 2,
      "outputs": []
    },
    {
      "cell_type": "markdown",
      "metadata": {
        "id": "aR-H38jqKMLW"
      },
      "source": [
        "### 1. In how many cities Summer Olympics is held so far?"
      ]
    },
    {
      "cell_type": "markdown",
      "metadata": {
        "id": "CWvV0csFNpOc"
      },
      "source": [
        "df['City'].unique() will give us the array of unique cities where Summer Olympics is held. So len(df['City'].unique()) will give us the length of the array which is the number of unique cities where Summer Olympics is held. "
      ]
    },
    {
      "cell_type": "code",
      "metadata": {
        "colab": {
          "base_uri": "https://localhost:8080/"
        },
        "id": "lLYpr0EdKMLX",
        "outputId": "f522f603-b32f-43d4-97c1-451214251510"
      },
      "source": [
        "x = len(df['City'].unique())\n",
        "x"
      ],
      "execution_count": 3,
      "outputs": [
        {
          "output_type": "execute_result",
          "data": {
            "text/plain": [
              "22"
            ]
          },
          "metadata": {},
          "execution_count": 3
        }
      ]
    },
    {
      "cell_type": "markdown",
      "metadata": {
        "id": "EbuIl1p8KMLX"
      },
      "source": [
        "### 2. Which sport is having most number of Gold Medals so far? (Top 5)"
      ]
    },
    {
      "cell_type": "markdown",
      "metadata": {
        "id": "xYXBmfHrZGGB"
      },
      "source": [
        "jk will contain the dataframe where we can get all the rows which have Gold Medal. The length of each unique sport in jk will give us the no. of gold medals in each sport and the sport and no of gold medals are stored into a list named data. And we can evaluate the sport having most number of gold medals by storing the list into a dataframe x in descending order."
      ]
    },
    {
      "cell_type": "code",
      "metadata": {
        "colab": {
          "base_uri": "https://localhost:8080/",
          "height": 504
        },
        "id": "uMFSio_COpFx",
        "outputId": "0da8a0fa-bc98-45ce-a964-e00299026ee1"
      },
      "source": [
        "jk = df[df['Medal']==\"Gold\"]\n",
        "data=[]\n",
        "for sport in jk['Sport'].unique():\n",
        "  data.append([sport , len(jk[jk['Sport']  == sport])])\n",
        "x = pd.DataFrame(data, columns=['Sport','Gold Medals']).sort_values(by='Gold Medals', ascending=False).head()\n",
        "print(x)\n",
        "x.plot(x = 'Sport', y = 'Gold Medals', kind = 'bar', figsize = (5,5))"
      ],
      "execution_count": 5,
      "outputs": [
        {
          "output_type": "stream",
          "name": "stdout",
          "text": [
            "         Sport  Gold Medals\n",
            "0     Aquatics         1421\n",
            "1    Athletics         1215\n",
            "17      Rowing          890\n",
            "4   Gymnastics          820\n",
            "3      Fencing          552\n"
          ]
        },
        {
          "output_type": "execute_result",
          "data": {
            "text/plain": [
              "<matplotlib.axes._subplots.AxesSubplot at 0x7f56f6b4e590>"
            ]
          },
          "metadata": {},
          "execution_count": 5
        },
        {
          "output_type": "display_data",
          "data": {
            "image/png": "[encoded data removed]",
            "text/plain": [
              "<Figure size 360x360 with 1 Axes>"
            ]
          },
          "metadata": {
            "needs_background": "light"
          }
        }
      ]
    },
    {
      "cell_type": "markdown",
      "metadata": {
        "id": "Nuw33dejKMLY"
      },
      "source": [
        "### 3. Which sport is having most number of medals so far? (Top 5)"
      ]
    },
    {
      "cell_type": "markdown",
      "metadata": {
        "id": "ydEB5-ZW-nKB"
      },
      "source": [
        "The sport and count of medals in each sport is stored in gk in descending order of count of medals."
      ]
    },
    {
      "cell_type": "code",
      "metadata": {
        "id": "l75YSV_-KMLY",
        "colab": {
          "base_uri": "https://localhost:8080/",
          "height": 504
        },
        "outputId": "ebbf1170-d241-42c3-e206-986cfcdfa07e"
      },
      "source": [
        "gk=df.groupby('Sport').Medal.agg(['count']).sort_values(['count'],ascending=False).reset_index()\n",
        "pk=gk.head()\n",
        "print(pk)\n",
        "pk.plot(x = 'Sport', y = 'count', kind = 'bar', figsize = (5,5))\n",
        "\n"
      ],
      "execution_count": 6,
      "outputs": [
        {
          "output_type": "stream",
          "name": "stdout",
          "text": [
            "        Sport  count\n",
            "0    Aquatics   4170\n",
            "1   Athletics   3638\n",
            "2      Rowing   2667\n",
            "3  Gymnastics   2307\n",
            "4     Fencing   1613\n"
          ]
        },
        {
          "output_type": "execute_result",
          "data": {
            "text/plain": [
              "<matplotlib.axes._subplots.AxesSubplot at 0x7f56f4aa7450>"
            ]
          },
          "metadata": {},
          "execution_count": 6
        },
        {
          "output_type": "display_data",
          "data": {
            "image/png": "[encoded data removed]",
            "text/plain": [
              "<Figure size 360x360 with 1 Axes>"
            ]
          },
          "metadata": {
            "needs_background": "light"
          }
        }
      ]
    },
    {
      "cell_type": "markdown",
      "metadata": {
        "id": "9BBZZzu3KMLZ"
      },
      "source": [
        "### 4. Which player has won most number of medals? (Top 5)"
      ]
    },
    {
      "cell_type": "markdown",
      "metadata": {
        "id": "LgJtYca2_Mw5"
      },
      "source": [
        "The athlete and count of medals in each sport is stored in gk in descending order of count of medals."
      ]
    },
    {
      "cell_type": "code",
      "metadata": {
        "id": "yZJI7VdLKMLZ",
        "colab": {
          "base_uri": "https://localhost:8080/",
          "height": 562
        },
        "outputId": "f340b3f1-f382-4688-c20a-331197c50699"
      },
      "source": [
        "gk=df.groupby('Athlete').Medal.agg(['count']).sort_values(['count'],ascending=False).reset_index()\n",
        "pk=gk.head()\n",
        "print(pk)\n",
        "pk.plot(x = 'Athlete', y = 'count', kind = 'bar', figsize = (5,5))\n"
      ],
      "execution_count": 7,
      "outputs": [
        {
          "output_type": "stream",
          "name": "stdout",
          "text": [
            "                Athlete  count\n",
            "0       PHELPS, Michael     22\n",
            "1      LATYNINA, Larisa     18\n",
            "2    ANDRIANOV, Nikolay     15\n",
            "3  MANGIAROTTI, Edoardo     13\n",
            "4          ONO, Takashi     13\n"
          ]
        },
        {
          "output_type": "execute_result",
          "data": {
            "text/plain": [
              "<matplotlib.axes._subplots.AxesSubplot at 0x7f56f4a3f190>"
            ]
          },
          "metadata": {},
          "execution_count": 7
        },
        {
          "output_type": "display_data",
          "data": {
            "image/png": "[encoded data removed]",
            "text/plain": [
              "<Figure size 360x360 with 1 Axes>"
            ]
          },
          "metadata": {
            "needs_background": "light"
          }
        }
      ]
    },
    {
      "cell_type": "markdown",
      "metadata": {
        "id": "mJyHtopEKMLa"
      },
      "source": [
        "### 5. Which player has won most number Gold Medals of medals? (Top 5)"
      ]
    },
    {
      "cell_type": "markdown",
      "metadata": {
        "id": "iMemQYdd_b4G"
      },
      "source": [
        "As jk contains all the rows having gold medal, the count of medals in jk for each Athlete are stored in ak in descending order. ak gives us the dataframe of the players with most number of gold medals. ak is plotted."
      ]
    },
    {
      "cell_type": "code",
      "metadata": {
        "id": "MiOCvgG4KMLa",
        "colab": {
          "base_uri": "https://localhost:8080/",
          "height": 530
        },
        "outputId": "cfca0a99-afe1-4cb1-c01e-f18a9b7dafb6"
      },
      "source": [
        "ak=jk.groupby('Athlete').Medal.agg(['count']).sort_values(['count'],ascending=False).reset_index()\n",
        "print(ak.head())\n",
        "ak.head().plot(x = 'Athlete', y = 'count', kind = 'bar', figsize = (5,5))"
      ],
      "execution_count": 8,
      "outputs": [
        {
          "output_type": "stream",
          "name": "stdout",
          "text": [
            "            Athlete  count\n",
            "0   PHELPS, Michael     18\n",
            "1       LEWIS, Carl      9\n",
            "2      NURMI, Paavo      9\n",
            "3       SPITZ, Mark      9\n",
            "4  LATYNINA, Larisa      9\n"
          ]
        },
        {
          "output_type": "execute_result",
          "data": {
            "text/plain": [
              "<matplotlib.axes._subplots.AxesSubplot at 0x7f56f4aa7990>"
            ]
          },
          "metadata": {},
          "execution_count": 8
        },
        {
          "output_type": "display_data",
          "data": {
            "image/png": "[encoded data removed]",
            "text/plain": [
              "<Figure size 360x360 with 1 Axes>"
            ]
          },
          "metadata": {
            "needs_background": "light"
          }
        }
      ]
    },
    {
      "cell_type": "markdown",
      "metadata": {
        "id": "mTBIk8VzKMLa"
      },
      "source": [
        "### 6. In which year India won first Gold Medal in Summer Olympics?"
      ]
    },
    {
      "cell_type": "markdown",
      "metadata": {
        "id": "p-YiLlJFAYkd"
      },
      "source": [
        "As jk contains all the rows having gold medal, yk will contain the values where the counry row is having the value IND in jk. The minimum value in the year row of yk i.e. yk['Year'].min() will give us the year in which year India won first Gold Medal in Summer Olympics."
      ]
    },
    {
      "cell_type": "code",
      "metadata": {
        "id": "WmbH3UT_KMLb",
        "colab": {
          "base_uri": "https://localhost:8080/"
        },
        "outputId": "946b86cd-d144-4279-f568-bbeddcaf26f5"
      },
      "source": [
        "yk = jk[jk['Country']==\"IND\"]\n",
        "yk['Year'].min()"
      ],
      "execution_count": 9,
      "outputs": [
        {
          "output_type": "execute_result",
          "data": {
            "text/plain": [
              "1928"
            ]
          },
          "metadata": {},
          "execution_count": 9
        }
      ]
    },
    {
      "cell_type": "markdown",
      "metadata": {
        "id": "Q-xoV46GKMLb"
      },
      "source": [
        "### 7. Which event is most popular in terms on number of players? (Top 5)"
      ]
    },
    {
      "cell_type": "markdown",
      "metadata": {
        "id": "3S8S1_gQNvHv"
      },
      "source": [
        "For each unique event, a dataframe ek containing all rows of that event is created. The event and no of unique players in that event are stored into a list popular. And we can evaluate the most popular event in terms of number of players by storing the list into a dataframe popeve in descending order . popeve is plotted."
      ]
    },
    {
      "cell_type": "code",
      "metadata": {
        "id": "OKYyz1WgKMLb",
        "colab": {
          "base_uri": "https://localhost:8080/",
          "height": 573
        },
        "outputId": "26f1af42-8014-41e4-8eda-e6c3a71acde8"
      },
      "source": [
        "popular=[]\n",
        "for event in df['Event'].unique():\n",
        "  ek = df[df['Event']==event]\n",
        "  popular.append([event, len(ek['Athlete'].unique())])\n",
        "\n",
        "\n",
        "popeve = pd.DataFrame(popular, columns=['Event','no. of players']).sort_values(by='no. of players', ascending=False).head()\n",
        "print(popeve)\n",
        "popeve.plot(x='Event', y='no. of players', kind='bar', figsize=(5,5) )\n",
        "\n"
      ],
      "execution_count": 10,
      "outputs": [
        {
          "output_type": "stream",
          "name": "stdout",
          "text": [
            "                        Event  no. of players\n",
            "80                   Football            1357\n",
            "176                    Hockey            1154\n",
            "138          Team Competition             975\n",
            "83   Eight With Coxswain (8+)             828\n",
            "327                Basketball             814\n"
          ]
        },
        {
          "output_type": "execute_result",
          "data": {
            "text/plain": [
              "<matplotlib.axes._subplots.AxesSubplot at 0x7f56f48d8590>"
            ]
          },
          "metadata": {},
          "execution_count": 10
        },
        {
          "output_type": "display_data",
          "data": {
            "image/png": "[encoded data removed]",
            "text/plain": [
              "<Figure size 360x360 with 1 Axes>"
            ]
          },
          "metadata": {
            "needs_background": "light"
          }
        }
      ]
    },
    {
      "cell_type": "markdown",
      "metadata": {
        "id": "Hu9n2tu-KMLc"
      },
      "source": [
        "### 8. Which sport is having most female Gold Medalists? (Top 5)"
      ]
    },
    {
      "cell_type": "markdown",
      "metadata": {
        "id": "XSkoYR4YDSRl"
      },
      "source": [
        "As jk contains all the rows having gold medal, bk will contain all the rows fo each unique sport in jk and fe will contain all the rows of the sport in bk having female athletes. fegold is a list which will contain the name of each unique sport and no of female gold medalists in that sport. fegold is converted into dataframe femgold in descending order of no of female gold medalists. femgold is plotted."
      ]
    },
    {
      "cell_type": "code",
      "metadata": {
        "id": "LdJZ1wzKKMLc",
        "colab": {
          "base_uri": "https://localhost:8080/",
          "height": 504
        },
        "outputId": "2ef9f6aa-1c98-4312-a004-0e6a5b8aaa88"
      },
      "source": [
        "fegold=[]\n",
        "for sport in jk['Sport'].unique():\n",
        "  bk=jk[jk['Sport']==sport]\n",
        "  fe=bk[bk['Gender']==\"Women\"]\n",
        "  fegold.append([sport,len(fe)])\n",
        "femgold = pd.DataFrame(fegold, columns=['Sport','no. of female Gold Medalists']).sort_values(by='no. of female Gold Medalists', ascending=False).head()\n",
        "print(femgold)\n",
        "femgold.plot(x='Sport', y='no. of female Gold Medalists',kind='bar', figsize=(5,5) )"
      ],
      "execution_count": 11,
      "outputs": [
        {
          "output_type": "stream",
          "name": "stdout",
          "text": [
            "         Sport  no. of female Gold Medalists\n",
            "0     Aquatics                           589\n",
            "1    Athletics                           389\n",
            "4   Gymnastics                           268\n",
            "17      Rowing                           217\n",
            "35  Volleyball                           166\n"
          ]
        },
        {
          "output_type": "execute_result",
          "data": {
            "text/plain": [
              "<matplotlib.axes._subplots.AxesSubplot at 0x7f56f4888e10>"
            ]
          },
          "metadata": {},
          "execution_count": 11
        },
        {
          "output_type": "display_data",
          "data": {
            "image/png": "[encoded data removed]",
            "text/plain": [
              "<Figure size 360x360 with 1 Axes>"
            ]
          },
          "metadata": {
            "needs_background": "light"
          }
        }
      ]
    }
  ]
}